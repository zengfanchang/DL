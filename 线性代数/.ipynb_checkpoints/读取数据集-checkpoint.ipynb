{
 "cells": [
  {
   "cell_type": "code",
   "execution_count": 1,
   "id": "f1875a81-4a6a-4948-acd9-ceabb46a3b17",
   "metadata": {
    "tags": []
   },
   "outputs": [],
   "source": [
    "%matplotlib inline\n",
    "import random\n",
    "import torch"
   ]
  },
  {
   "cell_type": "code",
   "execution_count": 6,
   "id": "166c77cc-d858-45c4-9ed5-df8565f9461e",
   "metadata": {
    "tags": []
   },
   "outputs": [],
   "source": [
    "def synthetic_data(w, b, num_example):\n",
    "    X = torch.normal(0, 1, (num_example, len(w))) # [[1， 2][1， 2][[]……]\n",
    "    y = torch.matmul(X, w) + b\n",
    "    y += torch.normal(0, 0.01, y.shape) # 每个噪声不同\n",
    "    return X, y.reshape((-1, 1)) # n*w,返回一列"
   ]
  },
  {
   "cell_type": "code",
   "execution_count": 8,
   "id": "cc20d4bb-b9e8-4b44-9143-895ec949c582",
   "metadata": {
    "tags": []
   },
   "outputs": [],
   "source": [
    "true_w = torch.tensor([2, -3.4])\n",
    "true_b = 4.2\n",
    "features, labels = synthetic_data(true_w, true_b, 1000)"
   ]
  },
  {
   "cell_type": "code",
   "execution_count": 10,
   "id": "72c953e7-b906-45eb-a569-1bd5077c54ad",
   "metadata": {
    "tags": []
   },
   "outputs": [
    {
     "name": "stdout",
     "output_type": "stream",
     "text": [
      "features: tensor([ 0.3766, -1.7574]) \n",
      "label: tensor([10.9304])\n"
     ]
    }
   ],
   "source": [
    "print(\"features:\", features[0], \"\\nlabel:\", labels[0])"
   ]
  },
  {
   "cell_type": "code",
   "execution_count": 11,
   "id": "8095931e-bd76-452a-b7ae-efb4ca2cb80e",
   "metadata": {
    "tags": []
   },
   "outputs": [],
   "source": [
    " X = torch.normal(0, 1, (1000, 2))"
   ]
  },
  {
   "cell_type": "code",
   "execution_count": 12,
   "id": "de7fc704-baa4-4397-b03d-4da2bc6507a4",
   "metadata": {
    "tags": []
   },
   "outputs": [
    {
     "ename": "NameError",
     "evalue": "name 'x' is not defined",
     "output_type": "error",
     "traceback": [
      "\u001b[0;31m---------------------------------------------------------------------------\u001b[0m",
      "\u001b[0;31mNameError\u001b[0m                                 Traceback (most recent call last)",
      "Cell \u001b[0;32mIn[12], line 1\u001b[0m\n\u001b[0;32m----> 1\u001b[0m x\n",
      "\u001b[0;31mNameError\u001b[0m: name 'x' is not defined"
     ]
    }
   ],
   "source": [
    "x"
   ]
  },
  {
   "cell_type": "code",
   "execution_count": 13,
   "id": "250a8050-87a5-4b9c-b866-0464970505c9",
   "metadata": {
    "tags": []
   },
   "outputs": [
    {
     "data": {
      "text/plain": [
       "tensor([[ 0.8922,  0.6618],\n",
       "        [ 0.4813,  0.5945],\n",
       "        [-0.5096,  0.7408],\n",
       "        ...,\n",
       "        [-0.2779, -0.5111],\n",
       "        [-0.0995, -1.3250],\n",
       "        [ 1.3457,  1.1499]])"
      ]
     },
     "execution_count": 13,
     "metadata": {},
     "output_type": "execute_result"
    }
   ],
   "source": [
    "X"
   ]
  },
  {
   "cell_type": "code",
   "execution_count": 16,
   "id": "c6879dc7-df6f-4af2-a30f-a4d3c0b46761",
   "metadata": {
    "tags": []
   },
   "outputs": [
    {
     "data": {
      "text/plain": [
       "torch.Size([1000, 2])"
      ]
     },
     "execution_count": 16,
     "metadata": {},
     "output_type": "execute_result"
    }
   ],
   "source": [
    "X.shape"
   ]
  },
  {
   "cell_type": "code",
   "execution_count": 17,
   "id": "8fc08e46-a012-4fb6-a5bf-f9fd891bb84c",
   "metadata": {
    "tags": []
   },
   "outputs": [
    {
     "data": {
      "text/plain": [
       "tensor([[ 0.3766, -1.7574],\n",
       "        [-0.2241,  1.0019],\n",
       "        [ 0.8217, -0.3487],\n",
       "        ...,\n",
       "        [-1.0739, -0.6912],\n",
       "        [ 0.1609, -0.1886],\n",
       "        [-0.5500,  0.3578]])"
      ]
     },
     "execution_count": 17,
     "metadata": {},
     "output_type": "execute_result"
    }
   ],
   "source": [
    "features"
   ]
  },
  {
   "cell_type": "code",
   "execution_count": 19,
   "id": "c9d897bb-e19b-47ae-acb0-3b41fb234803",
   "metadata": {
    "tags": []
   },
   "outputs": [
    {
     "data": {
      "text/plain": [
       "torch.Size([1000, 1])"
      ]
     },
     "execution_count": 19,
     "metadata": {},
     "output_type": "execute_result"
    }
   ],
   "source": [
    "labels.size()"
   ]
  },
  {
   "cell_type": "code",
   "execution_count": 20,
   "id": "926afa07-bfdb-45b6-9f43-02a757a1f5bb",
   "metadata": {
    "tags": []
   },
   "outputs": [],
   "source": [
    "import matplotlib.pyplot as plt"
   ]
  },
  {
   "cell_type": "code",
   "execution_count": 21,
   "id": "f09d125c-3c63-4d73-b632-925118a84c75",
   "metadata": {
    "tags": []
   },
   "outputs": [
    {
     "data": {
      "text/plain": [
       "<matplotlib.collections.PathCollection at 0x7f8987d6e390>"
      ]
     },
     "execution_count": 21,
     "metadata": {},
     "output_type": "execute_result"
    },
    {
     "data": {
      "image/png": "[encoded data removed]",
      "text/plain": [
       "<Figure size 640x480 with 1 Axes>"
      ]
     },
     "metadata": {},
     "output_type": "display_data"
    }
   ],
   "source": [
    "plt.figure()\n",
    "plt.scatter(features[:, (1)].detach().numpy(), labels.detach().numpy(), 1)"
   ]
  },
  {
   "cell_type": "code",
   "execution_count": 24,
   "id": "d5178c21-e47b-48b2-8cbf-1d359b8e19e5",
   "metadata": {},
   "outputs": [],
   "source": [
    "def data_iter(batch_size, features, labels):\n",
    "    num_examples = len(features)\n",
    "    indices = list((range(num_examples))) # 一个列表\n",
    "    random.shuffle(indices) # 打乱顺序\n",
    "    for i in range(0, num_examples, batch_size):\n",
    "        batch_indices = torch.tensor(\n",
    "            indices[i:min(i + batch_size, num_examples)]) # 切片\n",
    "        yield features[batch_indices], labels[batch_indices]\n",
    "        "
   ]
  },
  {
   "cell_type": "code",
   "execution_count": 25,
   "id": "41281685-16ce-4e49-8531-cadad8c984b2",
   "metadata": {
    "tags": []
   },
   "outputs": [
    {
     "name": "stdout",
     "output_type": "stream",
     "text": [
      "tensor([[-1.2680, -0.6394],\n",
      "        [-0.6427,  0.9225],\n",
      "        [-1.4669,  0.6090],\n",
      "        [ 0.4541, -0.4141],\n",
      "        [-0.9918, -1.0301],\n",
      "        [ 1.4529,  0.0845],\n",
      "        [ 0.1949,  0.8241],\n",
      "        [-1.0443, -0.6034],\n",
      "        [-1.9915,  0.4618],\n",
      "        [-0.5733,  1.4778]]) \n",
      " tensor([[ 3.8485],\n",
      "        [-0.2133],\n",
      "        [-0.8076],\n",
      "        [ 6.5111],\n",
      "        [ 5.7098],\n",
      "        [ 6.8177],\n",
      "        [ 1.7803],\n",
      "        [ 4.1522],\n",
      "        [-1.3423],\n",
      "        [-1.9830]])\n"
     ]
    }
   ],
   "source": [
    "batch_size = 10\n",
    "for X, y in data_iter(batch_size, features, labels):\n",
    "    print(X, '\\n', y)\n",
    "    break;"
   ]
  },
  {
   "cell_type": "code",
   "execution_count": 26,
   "id": "16e5a0e0-1d2d-45a9-b7dc-eb3b9399ec64",
   "metadata": {
    "tags": []
   },
   "outputs": [],
   "source": [
    "w = torch.normal(0, 0.01, size=(2, 1), requires_grad=True)\n",
    "b = torch.zeros(1, requires_grad=True)"
   ]
  },
  {
   "cell_type": "markdown",
   "id": "5c1c64b3-7940-428e-ac31-81d0282fde15",
   "metadata": {},
   "source": [
    "- 定义模型"
   ]
  },
  {
   "cell_type": "code",
   "execution_count": 27,
   "id": "ae06f373-5bc4-4133-8b39-25b16f63b0c1",
   "metadata": {
    "tags": []
   },
   "outputs": [],
   "source": [
    "def linreg(X, w, b):\n",
    "    return torch.matmul(X, w) + b\n"
   ]
  },
  {
   "cell_type": "code",
   "execution_count": 28,
   "id": "89365307-2b95-40b6-80f3-6ff5bc243d31",
   "metadata": {
    "tags": []
   },
   "outputs": [],
   "source": [
    "def squared_loss(y_hat, y):\n",
    "    return (y_hat - y.reshape(y_hat.shape)) ** 2 / 2"
   ]
  },
  {
   "cell_type": "code",
   "execution_count": 76,
   "id": "ea4abef8-0207-4233-96a6-ea1072a19094",
   "metadata": {
    "tags": []
   },
   "outputs": [],
   "source": [
    "def sgd(params, lr, batch_size):\n",
    "    with torch.no_grad():\n",
    "        for param in params:\n",
    "            param -= lr * param.grad / batch_size\n",
    "            param.grad.zero_()"
   ]
  },
  {
   "cell_type": "code",
   "execution_count": 77,
   "id": "bb15c358-7038-4faa-9651-be3d51b21593",
   "metadata": {},
   "outputs": [
    {
     "name": "stdout",
     "output_type": "stream",
     "text": [
      "epoch (epoch + 1), loss 0.036062\n",
      "epoch (epoch + 1), loss 0.000152\n",
      "epoch (epoch + 1), loss 0.000053\n"
     ]
    }
   ],
   "source": [
    "lr = 0.03\n",
    "num_epoches = 3\n",
    "net = linreg\n",
    "loss = squared_loss\n",
    "for epoch in range(num_epoches):\n",
    "    for X, y in data_iter(batch_size, features, labels):\n",
    "        l = loss(net(X, w, b), y) # X和y的小批量损失 预测值\n",
    "        l.sum().backward()\n",
    "        sgd([w, b], lr, batch_size)\n",
    "    with torch.no_grad():\n",
    "        train_l = loss(net(features, w, b), labels)\n",
    "        print(f'epoch (epoch + 1), loss {float(train_l.mean()):f}')"
   ]
  },
  {
   "cell_type": "code",
   "execution_count": 80,
   "id": "95786e36-4c5e-42ae-a48e-cb92be8f041a",
   "metadata": {
    "tags": []
   },
   "outputs": [
    {
     "name": "stdout",
     "output_type": "stream",
     "text": [
      "w的估计误差：tensor([-3.9339e-05, -3.6025e-04], grad_fn=<SubBackward0>)\n",
      "b的误差：tensor([0.0003], grad_fn=<RsubBackward1>)\n"
     ]
    }
   ],
   "source": [
    "print(f'w的估计误差：{true_w - w.reshape(true_w.shape)}') # 真正的值给定了？\n",
    "print(f'b的误差：{true_b - b}')"
   ]
  },
  {
   "cell_type": "code",
   "execution_count": null,
   "id": "0a57bbcc-0ae9-46e7-abf1-ba7331fe4a6f",
   "metadata": {},
   "outputs": [],
   "source": []
  }
 ],
 "metadata": {
  "kernelspec": {
   "display_name": "Python 3 (ipykernel)",
   "language": "python",
   "name": "python3"
  },
  "language_info": {
   "codemirror_mode": {
    "name": "ipython",
    "version": 3
   },
   "file_extension": ".py",
   "mimetype": "text/x-python",
   "name": "python",
   "nbconvert_exporter": "python",
   "pygments_lexer": "ipython3",
   "version": "3.11.3"
  }
 },
 "nbformat": 4,
 "nbformat_minor": 5
}
