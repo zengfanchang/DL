{
 "cells": [
  {
   "cell_type": "code",
   "execution_count": 1,
   "id": "d93810bc-2f20-49ff-81e2-3b9618b1456b",
   "metadata": {
    "tags": []
   },
   "outputs": [
    {
     "name": "stderr",
     "output_type": "stream",
     "text": [
      "/home/zeng/anaconda3/envs/torch/lib/python3.11/site-packages/torchvision/models/detection/anchor_utils.py:63: UserWarning: Failed to initialize NumPy: module compiled against API version 0x10 but this version of numpy is 0xf (Triggered internally at /croot/pytorch_1686931851744/work/torch/csrc/utils/tensor_numpy.cpp:84.)\n",
      "  device: torch.device = torch.device(\"cpu\"),\n"
     ]
    }
   ],
   "source": [
    "import torch\n",
    "import torchvision\n",
    "from IPython import display\n",
    "from d2l import torch as d2l"
   ]
  },
  {
   "cell_type": "code",
   "execution_count": 9,
   "id": "ff40f4b2-43f4-4fe9-928f-a32aeebf659e",
   "metadata": {
    "tags": []
   },
   "outputs": [
    {
     "name": "stderr",
     "output_type": "stream",
     "text": [
      "/home/zeng/anaconda3/envs/torch/lib/python3.11/site-packages/torch/utils/data/dataloader.py:560: UserWarning: This DataLoader will create 4 worker processes in total. Our suggested max number of worker in current system is 1, which is smaller than what this DataLoader is going to create. Please be aware that excessive worker creation might get DataLoader running slow or even freeze, lower the worker number to avoid potential slowness/freeze if necessary.\n",
      "  warnings.warn(_create_warning_msg(\n"
     ]
    }
   ],
   "source": [
    "batch_size = 256\n",
    "train_iter, test_iter = d2l.load_data_fashion_mnist(batch_size)"
   ]
  },
  {
   "cell_type": "code",
   "execution_count": 13,
   "id": "ee1d3c74-671f-4044-bfb4-a37dfdf946b2",
   "metadata": {
    "tags": []
   },
   "outputs": [],
   "source": [
    "num_input = 764\n",
    "num_output = 10\n",
    "\n",
    "w = torch.normal(0, 0.01, size=(num_input, num_output), requires_grad=True)\n",
    "b = torch.zeros(num_output, requires_grad=True)"
   ]
  },
  {
   "cell_type": "markdown",
   "id": "47d71c66-c5a5-453a-b1be-b27720888137",
   "metadata": {
    "tags": []
   },
   "source": [
    "- 定义softmax"
   ]
  },
  {
   "cell_type": "code",
   "execution_count": 17,
   "id": "0aaa738e-86c8-4ef5-b296-2a6439cb0fe8",
   "metadata": {
    "tags": []
   },
   "outputs": [],
   "source": [
    "X = torch.tensor([[1.0, 2.0, 3.0], [4.0, 5.0, 6.0]])"
   ]
  },
  {
   "cell_type": "code",
   "execution_count": 18,
   "id": "0551c5ed-067f-44c4-88be-230b8b66a4b2",
   "metadata": {
    "tags": []
   },
   "outputs": [
    {
     "data": {
      "text/plain": [
       "(tensor([[5., 7., 9.]]),\n",
       " tensor([[ 6.],\n",
       "         [15.]]))"
      ]
     },
     "execution_count": 18,
     "metadata": {},
     "output_type": "execute_result"
    }
   ],
   "source": [
    "X.sum(0, keepdim=True), X.sum(1, keepdim=True)"
   ]
  },
  {
   "cell_type": "code",
   "execution_count": 26,
   "id": "9c536075-2dff-4818-ac2e-637f024c8d42",
   "metadata": {
    "tags": []
   },
   "outputs": [],
   "source": [
    "def softmax(X):\n",
    "    X_exp = torch.exp(X)\n",
    "    partition = X_exp.sum(1, keepdim=True)\n",
    "    return X_exp /partition"
   ]
  },
  {
   "cell_type": "code",
   "execution_count": 28,
   "id": "2c5b975e-e65b-4b4e-b626-156d0fd3702b",
   "metadata": {
    "tags": []
   },
   "outputs": [
    {
     "data": {
      "text/plain": [
       "(tensor([[0.2684, 0.1452, 0.2605, 0.2302, 0.0958],\n",
       "         [0.1710, 0.4696, 0.2781, 0.0148, 0.0665]]),\n",
       " tensor([1.0000, 1.0000]))"
      ]
     },
     "execution_count": 28,
     "metadata": {},
     "output_type": "execute_result"
    }
   ],
   "source": [
    "X = torch.normal(0, 1, (2, 5))\n",
    "X_prob = softmax(X)\n",
    "X_prob, X_prob.sum(1)"
   ]
  },
  {
   "cell_type": "code",
   "execution_count": 30,
   "id": "d905ff15-582e-49a2-ba44-631f05212e0d",
   "metadata": {
    "tags": []
   },
   "outputs": [],
   "source": [
    "def net(X):\n",
    "    return softmax(torch.matmul(X.reshape((-1, W.shape[0])), W) + b)"
   ]
  },
  {
   "cell_type": "code",
   "execution_count": 31,
   "id": "554874a3-3ae6-4a15-8f7d-4cc59f4bbc4a",
   "metadata": {
    "tags": []
   },
   "outputs": [],
   "source": [
    "def cross_entropy(y_hat, y):\n",
    "    return -torch.log(y_hat[range(len(y_hat)), y]) # 交叉熵"
   ]
  },
  {
   "cell_type": "code",
   "execution_count": 36,
   "id": "16dae2e6-4e76-454a-a8d3-865b930fbc7b",
   "metadata": {
    "tags": []
   },
   "outputs": [],
   "source": [
    "y_hat = torch.tensor([[1.0, 2.0, 3.0], [4.0, 5.0, 6.0]])\n",
    "y = torch.tensor([0."
   ]
  },
  {
   "cell_type": "code",
   "execution_count": 41,
   "id": "8ad910db-2fc5-4794-9543-219cb8cd4f63",
   "metadata": {
    "tags": []
   },
   "outputs": [
    {
     "data": {
      "text/plain": [
       "tensor([0.6804])"
      ]
     },
     "execution_count": 41,
     "metadata": {},
     "output_type": "execute_result"
    }
   ],
   "source": [
    "a = torch.randn(1)\n",
    "a"
   ]
  },
  {
   "cell_type": "code",
   "execution_count": 42,
   "id": "edb87d64-808b-4b4c-b3d3-3047fc4789b1",
   "metadata": {
    "tags": []
   },
   "outputs": [
    {
     "data": {
      "text/plain": [
       "1"
      ]
     },
     "execution_count": 42,
     "metadata": {},
     "output_type": "execute_result"
    }
   ],
   "source": [
    "torch.numel(a)"
   ]
  },
  {
   "cell_type": "code",
   "execution_count": 43,
   "id": "757973ef-f2b7-478d-9dd7-dba010754dcf",
   "metadata": {
    "tags": []
   },
   "outputs": [
    {
     "data": {
      "text/plain": [
       "1"
      ]
     },
     "execution_count": 43,
     "metadata": {},
     "output_type": "execute_result"
    }
   ],
   "source": [
    "len(a)"
   ]
  },
  {
   "cell_type": "code",
   "execution_count": 49,
   "id": "cf6c648d-1d19-4d76-b2ea-7a2b13e2436d",
   "metadata": {
    "tags": []
   },
   "outputs": [
    {
     "ename": "TypeError",
     "evalue": "'DataLoader' object is not subscriptable",
     "output_type": "error",
     "traceback": [
      "\u001b[0;31m---------------------------------------------------------------------------\u001b[0m",
      "\u001b[0;31mTypeError\u001b[0m                                 Traceback (most recent call last)",
      "Cell \u001b[0;32mIn[49], line 1\u001b[0m\n\u001b[0;32m----> 1\u001b[0m d2l\u001b[38;5;241m.\u001b[39mevaluate_accuracy(net, test_iter[:\u001b[38;5;241m100\u001b[39m])\n",
      "\u001b[0;31mTypeError\u001b[0m: 'DataLoader' object is not subscriptable"
     ]
    }
   ],
   "source": [
    "d2l.evaluate_accuracy(net, )"
   ]
  },
  {
   "cell_type": "code",
   "execution_count": 46,
   "id": "ea2c91d3-2332-4719-a78f-4a9df097109d",
   "metadata": {
    "tags": []
   },
   "outputs": [],
   "source": [
    "device: torch.device = torch.device(\"cpu\")"
   ]
  },
  {
   "cell_type": "code",
   "execution_count": null,
   "id": "7950ac0d-0f4b-4cce-a630-9f598194f6e3",
   "metadata": {},
   "outputs": [],
   "source": []
  }
 ],
 "metadata": {
  "kernelspec": {
   "display_name": "d2l",
   "language": "python",
   "name": "torch"
  },
  "language_info": {
   "codemirror_mode": {
    "name": "ipython",
    "version": 3
   },
   "file_extension": ".py",
   "mimetype": "text/x-python",
   "name": "python",
   "nbconvert_exporter": "python",
   "pygments_lexer": "ipython3",
   "version": "3.11.4"
  }
 },
 "nbformat": 4,
 "nbformat_minor": 5
}
