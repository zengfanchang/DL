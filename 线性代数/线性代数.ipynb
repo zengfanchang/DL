{
 "cells": [
  {
   "cell_type": "code",
   "execution_count": 1,
   "id": "3166731a-9954-4de4-9046-af4fc676757a",
   "metadata": {
    "tags": []
   },
   "outputs": [],
   "source": [
    "import torch"
   ]
  },
  {
   "cell_type": "code",
   "execution_count": 4,
   "id": "a5252d84-3073-40c7-bcb4-33c25bfcc0ed",
   "metadata": {
    "tags": []
   },
   "outputs": [],
   "source": [
    "x = torch.tensor([1, 2, 3, 4])\n",
    "y = torch.tensor([2, 2, 1, 2])"
   ]
  },
  {
   "cell_type": "code",
   "execution_count": 5,
   "id": "973b99aa-5fab-469b-a27b-707863c9517d",
   "metadata": {
    "tags": []
   },
   "outputs": [
    {
     "data": {
      "text/plain": [
       "tensor([ True, False, False, False])"
      ]
     },
     "execution_count": 5,
     "metadata": {},
     "output_type": "execute_result"
    }
   ],
   "source": [
    "x < y"
   ]
  },
  {
   "cell_type": "code",
   "execution_count": 6,
   "id": "6c6c2dc9-4b6f-4a1a-a883-eff49dbb6b28",
   "metadata": {
    "tags": []
   },
   "outputs": [],
   "source": [
    "import os"
   ]
  },
  {
   "cell_type": "code",
   "execution_count": 7,
   "id": "9713f279-3ddc-4db6-81a6-5c3e0ab29bc1",
   "metadata": {
    "tags": []
   },
   "outputs": [],
   "source": [
    "path = os.path.join(\"../path/\", \"date\", \".txt\")"
   ]
  },
  {
   "cell_type": "code",
   "execution_count": 8,
   "id": "eb0ddc1f-49ee-4d8c-a0de-6f893a92796d",
   "metadata": {
    "tags": []
   },
   "outputs": [
    {
     "name": "stdout",
     "output_type": "stream",
     "text": [
      "../path/date/.txt\n"
     ]
    }
   ],
   "source": [
    "print(path)"
   ]
  },
  {
   "cell_type": "code",
   "execution_count": 9,
   "id": "b51810cc-3a36-46d1-92e4-d8bc14dd1496",
   "metadata": {
    "tags": []
   },
   "outputs": [],
   "source": [
    "a = torch.arange(6).reshape(2,3)"
   ]
  },
  {
   "cell_type": "code",
   "execution_count": 12,
   "id": "418a28e0-33d2-48bc-ae49-114ed97d26b9",
   "metadata": {
    "tags": []
   },
   "outputs": [],
   "source": [
    "b = torch.arange(3)\n",
    "c= torch.arange(3) + 2"
   ]
  },
  {
   "cell_type": "code",
   "execution_count": 17,
   "id": "8e11298c-0f31-4770-8a19-529cf834ff9e",
   "metadata": {
    "tags": []
   },
   "outputs": [
    {
     "ename": "RuntimeError",
     "evalue": "1D tensors expected, but got 2D and 1D tensors",
     "output_type": "error",
     "traceback": [
      "\u001b[0;31m---------------------------------------------------------------------------\u001b[0m",
      "\u001b[0;31mRuntimeError\u001b[0m                              Traceback (most recent call last)",
      "Cell \u001b[0;32mIn[17], line 1\u001b[0m\n\u001b[0;32m----> 1\u001b[0m torch\u001b[38;5;241m.\u001b[39mdot(a, b)\n",
      "\u001b[0;31mRuntimeError\u001b[0m: 1D tensors expected, but got 2D and 1D tensors"
     ]
    }
   ],
   "source": [
    "torch.dot(a, b)"
   ]
  },
  {
   "cell_type": "code",
   "execution_count": 16,
   "id": "be17bfd6-286d-4466-950b-0f3b61a56580",
   "metadata": {
    "tags": []
   },
   "outputs": [
    {
     "data": {
      "text/plain": [
       "tensor([ 5, 14])"
      ]
     },
     "execution_count": 16,
     "metadata": {},
     "output_type": "execute_result"
    }
   ],
   "source": [
    "torch.mv(a, b)"
   ]
  },
  {
   "cell_type": "code",
   "execution_count": 19,
   "id": "141808d2-9f2f-4a22-be81-d56bcc5bede7",
   "metadata": {},
   "outputs": [],
   "source": [
    "import math, time\n",
    "import numpy as np\n"
   ]
  },
  {
   "cell_type": "code",
   "execution_count": 32,
   "id": "56b601fd-1e9f-4bca-85b9-b77251b28342",
   "metadata": {
    "tags": []
   },
   "outputs": [],
   "source": [
    "n = 10000\n",
    "a = torch.ones(n)\n",
    "b = torch.ones(n)"
   ]
  },
  {
   "cell_type": "code",
   "execution_count": 21,
   "id": "97091e13-b64c-42b3-a059-e37a9190d9b7",
   "metadata": {
    "tags": []
   },
   "outputs": [
    {
     "data": {
      "text/plain": [
       "torch.Tensor"
      ]
     },
     "execution_count": 21,
     "metadata": {},
     "output_type": "execute_result"
    }
   ],
   "source": [
    "type(a)"
   ]
  },
  {
   "cell_type": "code",
   "execution_count": 26,
   "id": "ef5725e9-db2e-4cee-821c-5bab06a23092",
   "metadata": {
    "tags": []
   },
   "outputs": [
    {
     "data": {
      "text/plain": [
       "tensor([0, 0, 0,  ..., 0, 0, 0])"
      ]
     },
     "execution_count": 26,
     "metadata": {},
     "output_type": "execute_result"
    }
   ],
   "source": [
    "c = [0 for i in range(n)]\n",
    "c = torch.tensor(c)\n",
    "c"
   ]
  },
  {
   "cell_type": "code",
   "execution_count": 25,
   "id": "21c641e5-dad7-47c6-aa65-7817c2d192ea",
   "metadata": {
    "tags": []
   },
   "outputs": [],
   "source": [
    "class Timer: #@save\n",
    "    \"\"\"记录多次运⾏时间\"\"\"\n",
    "    def __init__(self):\n",
    "        self.times = []\n",
    "        self.start()\n",
    "        \n",
    "    def start(self):\n",
    "        \"\"\"启动计时器\"\"\"\n",
    "        self.tik = time.time()\n",
    "        \n",
    "    def stop(self):\n",
    "        \"\"\"停⽌计时器并将时间记录在列表中\"\"\"\n",
    "        self.times.append(time.time() - self.tik)\n",
    "        return self.times[-1]\n",
    "    \n",
    "    def avg(self):\n",
    "        \"\"\"返回平均时间\"\"\"\n",
    "        return sum(self.times) / len(self.times)\n",
    "    \n",
    "    def sum(self):\n",
    "        \"\"\"返回时间总和\"\"\"\n",
    "        return sum(self.times)\n",
    "    \n",
    "    def cumsum(self):\n",
    "        \"\"\"返回累计时间\"\"\"\n",
    "        return np.array(self.times).cumsum().tolist()"
   ]
  },
  {
   "cell_type": "code",
   "execution_count": 36,
   "id": "bfdc9658-d301-4a1e-8150-9a2ff7f9f811",
   "metadata": {
    "tags": []
   },
   "outputs": [
    {
     "data": {
      "text/plain": [
       "'0.08571 sec'"
      ]
     },
     "execution_count": 36,
     "metadata": {},
     "output_type": "execute_result"
    }
   ],
   "source": [
    "timer = Timer()\n",
    "for i in range(n):\n",
    "    c[i] = a[i] + b[i]\n",
    "d = timer.stop()\n",
    "f\"{timer.stop():.5f} sec\""
   ]
  },
  {
   "cell_type": "code",
   "execution_count": 39,
   "id": "19ea40ba-f5da-4282-b852-efb4ed224e63",
   "metadata": {
    "tags": []
   },
   "outputs": [
    {
     "data": {
      "text/plain": [
       "'0.00140 sec'"
      ]
     },
     "execution_count": 39,
     "metadata": {},
     "output_type": "execute_result"
    }
   ],
   "source": [
    "timer.start()\n",
    "d = a + b\n",
    "f\"{timer.stop():.5f} sec\""
   ]
  },
  {
   "cell_type": "code",
   "execution_count": 37,
   "id": "953d125d-fb43-46a6-bf9e-51a99f2aaecc",
   "metadata": {
    "tags": []
   },
   "outputs": [
    {
     "data": {
      "text/plain": [
       "'75.94005 sec'"
      ]
     },
     "execution_count": 37,
     "metadata": {},
     "output_type": "execute_result"
    }
   ],
   "source": [
    "f\"{timer.stop():.5f} sec\""
   ]
  },
  {
   "cell_type": "code",
   "execution_count": 38,
   "id": "bb9176cf-11a8-41c1-b5e8-69a3b7c302cf",
   "metadata": {
    "tags": []
   },
   "outputs": [
    {
     "data": {
      "text/plain": [
       "'78.20799 sec'"
      ]
     },
     "execution_count": 38,
     "metadata": {},
     "output_type": "execute_result"
    }
   ],
   "source": [
    "f\"{timer.stop():.5f} sec\""
   ]
  },
  {
   "cell_type": "code",
   "execution_count": null,
   "id": "9c6e2d45-23a8-46c2-96fa-01d20e95d13c",
   "metadata": {},
   "outputs": [],
   "source": []
  }
 ],
 "metadata": {
  "kernelspec": {
   "display_name": "Python 3 (ipykernel)",
   "language": "python",
   "name": "python3"
  },
  "language_info": {
   "codemirror_mode": {
    "name": "ipython",
    "version": 3
   },
   "file_extension": ".py",
   "mimetype": "text/x-python",
   "name": "python",
   "nbconvert_exporter": "python",
   "pygments_lexer": "ipython3",
   "version": "3.11.3"
  }
 },
 "nbformat": 4,
 "nbformat_minor": 5
}
