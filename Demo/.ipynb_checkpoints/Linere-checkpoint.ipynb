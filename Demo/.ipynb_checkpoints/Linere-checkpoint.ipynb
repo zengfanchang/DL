{
 "cells": [
  {
   "cell_type": "code",
   "execution_count": 1,
   "id": "1ec7f648-cfa5-4eea-8dc5-03554e108f90",
   "metadata": {},
   "outputs": [],
   "source": [
    "import torch\n",
    "from torch import nn"
   ]
  },
  {
   "cell_type": "code",
   "execution_count": 11,
   "id": "d4e507b9-7f91-44a1-9036-6b5cc9e40f90",
   "metadata": {},
   "outputs": [],
   "source": [
    "class MyModel(nn.Module):\n",
    "    def __init__(self):\n",
    "        super(MyModel, self).__init__() #初始化继承层模型参数\n",
    "        self.fc1 = nn.Linear(10, 20) \n",
    "        self.fc2 = nn.Linear(20, 10)\n",
    "\n",
    "    def forward(self, x):\n",
    "        x = self.fc1(x)\n",
    "        x = torch.relu(x)\n",
    "        x = self.fc2(x)\n",
    "        return x"
   ]
  },
  {
   "cell_type": "code",
   "execution_count": 13,
   "id": "b4abe589-1d7a-4a2d-8398-897efd6ffd5e",
   "metadata": {},
   "outputs": [],
   "source": [
    "model = MyModel() # 构建一个网络"
   ]
  },
  {
   "cell_type": "markdown",
   "id": "6b5408d3-9618-43f4-b448-799cc2685df4",
   "metadata": {},
   "source": [
    "- Model()相当于调用__call__方法， 而神经网络中调用__call__方法就就相当如调用forward方法"
   ]
  },
  {
   "cell_type": "code",
   "execution_count": 14,
   "id": "2387ba06-3d05-4f55-ba2e-487f95c81f36",
   "metadata": {},
   "outputs": [],
   "source": [
    "input = torch.randn(1, 10)\n",
    "output = model(input)"
   ]
  },
  {
   "cell_type": "code",
   "execution_count": 15,
   "id": "ba3970ae-70d6-41bf-a7b4-d82eba4d8211",
   "metadata": {},
   "outputs": [
    {
     "data": {
      "text/plain": [
       "tensor([[ 0.5917,  0.6888, -0.9411,  0.9857,  1.4511, -0.4055,  1.6190, -0.1808,\n",
       "          0.2162, -0.3057]])"
      ]
     },
     "execution_count": 15,
     "metadata": {},
     "output_type": "execute_result"
    }
   ],
   "source": [
    "input"
   ]
  },
  {
   "cell_type": "code",
   "execution_count": null,
   "id": "0d327f5a-bd44-4ccb-a1ee-a28df702f068",
   "metadata": {},
   "outputs": [],
   "source": []
  },
  {
   "cell_type": "code",
   "execution_count": 31,
   "id": "ff4f8ef5-ab90-45e7-a231-a2d493f0d42f",
   "metadata": {},
   "outputs": [],
   "source": [
    "class Mymodel1(nn.Module):\n",
    "    def __init__(self, ):\n",
    "        super(Mymodel1, self).__init__()\n",
    "        self.model = None\n",
    "        self.fc = nn.Linear(10, 20)\n",
    "\n",
    "    def forward(self, x):\n",
    "        x = self.model(x)\n",
    "        x = self.fc(x)\n",
    "        x = torch.relu(x)\n",
    "        return x\n",
    "\n",
    "    def __call__(self, x):\n",
    "        self.model = MyModel()\n",
    "        print(\"x\")\n",
    "        return self.forward(x)\n",
    "    "
   ]
  },
  {
   "cell_type": "code",
   "execution_count": 32,
   "id": "733e1885-ed3e-4366-9fcb-819d53b081b6",
   "metadata": {},
   "outputs": [
    {
     "name": "stdout",
     "output_type": "stream",
     "text": [
      "x\n"
     ]
    }
   ],
   "source": [
    "model = Mymodel1()\n",
    "output = model(input)"
   ]
  },
  {
   "cell_type": "code",
   "execution_count": 33,
   "id": "fcc39450-d84f-4ac6-98a1-701e568b77c9",
   "metadata": {},
   "outputs": [
    {
     "data": {
      "text/plain": [
       "tensor([[0.0000, 0.2904, 0.0000, 0.0000, 0.0125, 0.0487, 0.0964, 0.0673, 0.0574,\n",
       "         0.0000, 0.0000, 0.0718, 0.0000, 0.1382, 0.0000, 0.3417, 0.1150, 0.2751,\n",
       "         0.1235, 0.0000]], grad_fn=<ReluBackward0>)"
      ]
     },
     "execution_count": 33,
     "metadata": {},
     "output_type": "execute_result"
    }
   ],
   "source": [
    "output"
   ]
  },
  {
   "cell_type": "code",
   "execution_count": 2,
   "id": "7b641259-2007-4823-a7f8-67ac273840e8",
   "metadata": {},
   "outputs": [
    {
     "ename": "SyntaxError",
     "evalue": "invalid character '：' (U+FF1A) (594755805.py, line 4)",
     "output_type": "error",
     "traceback": [
      "\u001b[0;36m  Cell \u001b[0;32mIn[2], line 4\u001b[0;36m\u001b[0m\n\u001b[0;31m    in： int,\u001b[0m\n\u001b[0m      ^\u001b[0m\n\u001b[0;31mSyntaxError\u001b[0m\u001b[0;31m:\u001b[0m invalid character '：' (U+FF1A)\n"
     ]
    }
   ],
   "source": [
    "class Test():\n",
    "    def __init__(\n",
    "        self,\n",
    "        in： int,\n",
    "        out: int = 1\n",
    "    ):\n",
    "        print(out)\n",
    "    def test():\n",
    "        print(in)"
   ]
  },
  {
   "cell_type": "code",
   "execution_count": 4,
   "id": "31ac1a22-8124-4647-acf5-101723066411",
   "metadata": {},
   "outputs": [
    {
     "data": {
      "text/plain": [
       "[1, 1]"
      ]
     },
     "execution_count": 4,
     "metadata": {},
     "output_type": "execute_result"
    }
   ],
   "source": [
    "[1] * 2"
   ]
  },
  {
   "cell_type": "code",
   "execution_count": null,
   "id": "97d780c6-991c-48aa-ab78-b6c7516e83b9",
   "metadata": {},
   "outputs": [],
   "source": [
    "2"
   ]
  }
 ],
 "metadata": {
  "kernelspec": {
   "display_name": "d2l",
   "language": "python",
   "name": "torch"
  },
  "language_info": {
   "codemirror_mode": {
    "name": "ipython",
    "version": 3
   },
   "file_extension": ".py",
   "mimetype": "text/x-python",
   "name": "python",
   "nbconvert_exporter": "python",
   "pygments_lexer": "ipython3",
   "version": "3.11.4"
  }
 },
 "nbformat": 4,
 "nbformat_minor": 5
}
