{
 "cells": [
  {
   "cell_type": "code",
   "execution_count": 2,
   "id": "9f8a060b-6195-4f90-b1ec-9fb4830ba90f",
   "metadata": {
    "tags": []
   },
   "outputs": [],
   "source": [
    "import collections\n",
    "import re\n",
    "from d2l import torch as d2l"
   ]
  },
  {
   "cell_type": "code",
   "execution_count": 2,
   "id": "8af3801d-9569-41df-af6f-cf6a0568bcc0",
   "metadata": {
    "tags": []
   },
   "outputs": [
    {
     "data": {
      "text/plain": [
       "\u001b[0;31mType:\u001b[0m        module\n",
       "\u001b[0;31mString form:\u001b[0m <module 'collections' from '/home/zeng/anaconda3/envs/torch/lib/python3.11/collections/__init__.py'>\n",
       "\u001b[0;31mFile:\u001b[0m        ~/anaconda3/envs/torch/lib/python3.11/collections/__init__.py\n",
       "\u001b[0;31mDocstring:\u001b[0m  \n",
       "This module implements specialized container datatypes providing\n",
       "alternatives to Python's general purpose built-in containers, dict,\n",
       "list, set, and tuple.\n",
       "\n",
       "* namedtuple   factory function for creating tuple subclasses with named fields\n",
       "* deque        list-like container with fast appends and pops on either end\n",
       "* ChainMap     dict-like class for creating a single view of multiple mappings\n",
       "* Counter      dict subclass for counting hashable objects\n",
       "* OrderedDict  dict subclass that remembers the order entries were added\n",
       "* defaultdict  dict subclass that calls a factory function to supply missing values\n",
       "* UserDict     wrapper around dictionary objects for easier dict subclassing\n",
       "* UserList     wrapper around list objects for easier list subclassing\n",
       "* UserString   wrapper around string objects for easier string subclassing"
      ]
     },
     "metadata": {},
     "output_type": "display_data"
    }
   ],
   "source": [
    "collections?"
   ]
  },
  {
   "cell_type": "code",
   "execution_count": 3,
   "id": "8d873168-3e8d-4f74-8f7d-829f08a1ccd2",
   "metadata": {
    "tags": []
   },
   "outputs": [],
   "source": [
    "d2l.DATA_HUB['time_machine'] = (d2l.DATA_URL + 'timemachine.txt', \n",
    "                                '090b5e7e70c295757f55df93cb0a180b9691891a')"
   ]
  },
  {
   "cell_type": "code",
   "execution_count": 4,
   "id": "9703c154-a5b8-453c-ba92-76d585244047",
   "metadata": {
    "tags": []
   },
   "outputs": [
    {
     "data": {
      "text/plain": [
       "'http://d2l-data.s3-accelerate.amazonaws.com/'"
      ]
     },
     "execution_count": 4,
     "metadata": {},
     "output_type": "execute_result"
    }
   ],
   "source": [
    "d2l.DATA_URL"
   ]
  },
  {
   "cell_type": "code",
   "execution_count": 6,
   "id": "284b73db-20f4-4ca5-a610-ff8145d30eb8",
   "metadata": {
    "tags": []
   },
   "outputs": [],
   "source": [
    "def read_time_machine():\n",
    "    with open(d2l.download('time_machine'), 'r') as f:\n",
    "        lines = f.readlines()\n",
    "    return [re.sub('[^A-Za-z]+', ' ', line).strip().lower() for line in lines]"
   ]
  },
  {
   "cell_type": "code",
   "execution_count": 7,
   "id": "e5949870-a630-4848-89fe-70a78bc2a013",
   "metadata": {
    "tags": []
   },
   "outputs": [
    {
     "name": "stdout",
     "output_type": "stream",
     "text": [
      "Downloading ../data/timemachine.txt from http://d2l-data.s3-accelerate.amazonaws.com/timemachine.txt...\n"
     ]
    }
   ],
   "source": [
    "lines = read_time_machine()"
   ]
  },
  {
   "cell_type": "code",
   "execution_count": 12,
   "id": "6ba78472-59ba-444a-8778-937615598db0",
   "metadata": {
    "tags": []
   },
   "outputs": [
    {
     "data": {
      "text/plain": [
       "\u001b[0;31mSignature:\u001b[0m \u001b[0mre\u001b[0m\u001b[0;34m.\u001b[0m\u001b[0msub\u001b[0m\u001b[0;34m(\u001b[0m\u001b[0mpattern\u001b[0m\u001b[0;34m,\u001b[0m \u001b[0mrepl\u001b[0m\u001b[0;34m,\u001b[0m \u001b[0mstring\u001b[0m\u001b[0;34m,\u001b[0m \u001b[0mcount\u001b[0m\u001b[0;34m=\u001b[0m\u001b[0;36m0\u001b[0m\u001b[0;34m,\u001b[0m \u001b[0mflags\u001b[0m\u001b[0;34m=\u001b[0m\u001b[0;36m0\u001b[0m\u001b[0;34m)\u001b[0m\u001b[0;34m\u001b[0m\u001b[0;34m\u001b[0m\u001b[0m\n",
       "\u001b[0;31mSource:\u001b[0m   \n",
       "\u001b[0;32mdef\u001b[0m \u001b[0msub\u001b[0m\u001b[0;34m(\u001b[0m\u001b[0mpattern\u001b[0m\u001b[0;34m,\u001b[0m \u001b[0mrepl\u001b[0m\u001b[0;34m,\u001b[0m \u001b[0mstring\u001b[0m\u001b[0;34m,\u001b[0m \u001b[0mcount\u001b[0m\u001b[0;34m=\u001b[0m\u001b[0;36m0\u001b[0m\u001b[0;34m,\u001b[0m \u001b[0mflags\u001b[0m\u001b[0;34m=\u001b[0m\u001b[0;36m0\u001b[0m\u001b[0;34m)\u001b[0m\u001b[0;34m:\u001b[0m\u001b[0;34m\u001b[0m\n",
       "\u001b[0;34m\u001b[0m    \u001b[0;34m\"\"\"Return the string obtained by replacing the leftmost\u001b[0m\n",
       "\u001b[0;34m    non-overlapping occurrences of the pattern in string by the\u001b[0m\n",
       "\u001b[0;34m    replacement repl.  repl can be either a string or a callable;\u001b[0m\n",
       "\u001b[0;34m    if a string, backslash escapes in it are processed.  If it is\u001b[0m\n",
       "\u001b[0;34m    a callable, it's passed the Match object and must return\u001b[0m\n",
       "\u001b[0;34m    a replacement string to be used.\"\"\"\u001b[0m\u001b[0;34m\u001b[0m\n",
       "\u001b[0;34m\u001b[0m    \u001b[0;32mreturn\u001b[0m \u001b[0m_compile\u001b[0m\u001b[0;34m(\u001b[0m\u001b[0mpattern\u001b[0m\u001b[0;34m,\u001b[0m \u001b[0mflags\u001b[0m\u001b[0;34m)\u001b[0m\u001b[0;34m.\u001b[0m\u001b[0msub\u001b[0m\u001b[0;34m(\u001b[0m\u001b[0mrepl\u001b[0m\u001b[0;34m,\u001b[0m \u001b[0mstring\u001b[0m\u001b[0;34m,\u001b[0m \u001b[0mcount\u001b[0m\u001b[0;34m)\u001b[0m\u001b[0;34m\u001b[0m\u001b[0;34m\u001b[0m\u001b[0m\n",
       "\u001b[0;31mFile:\u001b[0m      ~/anaconda3/envs/torch/lib/python3.11/re/__init__.py\n",
       "\u001b[0;31mType:\u001b[0m      function"
      ]
     },
     "metadata": {},
     "output_type": "display_data"
    }
   ],
   "source": [
    "re.sub??"
   ]
  },
  {
   "cell_type": "code",
   "execution_count": 14,
   "id": "a0ad6ef6-b7e7-4235-828e-2b9281cb66d2",
   "metadata": {
    "tags": []
   },
   "outputs": [
    {
     "name": "stdout",
     "output_type": "stream",
     "text": [
      "#文本总行数：3221\n"
     ]
    }
   ],
   "source": [
    "print(f'#文本总行数：{len(lines)}')"
   ]
  },
  {
   "cell_type": "code",
   "execution_count": 19,
   "id": "d8206ae3-0d8b-42a6-85fc-9c0aba7f8a2c",
   "metadata": {
    "tags": []
   },
   "outputs": [
    {
     "name": "stdout",
     "output_type": "stream",
     "text": [
      "the time machine by h g wells\n",
      "<class 'str'>\n"
     ]
    }
   ],
   "source": [
    "print(lines[0])\n",
    "print(type(lines[10]))"
   ]
  },
  {
   "cell_type": "code",
   "execution_count": 20,
   "id": "e32a8397-bbc6-446f-b90a-45650205214a",
   "metadata": {
    "tags": []
   },
   "outputs": [],
   "source": [
    "def tokensize(lines, token='word'):\n",
    "    if token == 'word':\n",
    "        return [line.split() for line in lines] # 以字符为单位划分句子\n",
    "    elif token == 'char':\n",
    "        return [list(line) for line in lines] # 将以字符为单位，划分单词\n",
    "    else:\n",
    "        print('error:unkonw type:' + token)"
   ]
  },
  {
   "cell_type": "code",
   "execution_count": 21,
   "id": "86e1086c-2367-4768-9754-45966b38ebc5",
   "metadata": {
    "tags": []
   },
   "outputs": [],
   "source": [
    "token = tokensize(lines)"
   ]
  },
  {
   "cell_type": "code",
   "execution_count": 40,
   "id": "0f085901-a9b4-4ab5-aca5-f06579119a1a",
   "metadata": {},
   "outputs": [],
   "source": [
    "# 文本个数map和文件索引map\n",
    "class Vocab:\n",
    "    def __init__(self, tokens=None, min_freq=0, reserved_tokens=None):\n",
    "        if tokens is None:\n",
    "            tokens = []\n",
    "        if reserved_tokens is None:\n",
    "            reserved_tokens = []\n",
    "        counter = count_corpus(tokens) # 字母map\n",
    "        self._token_freqs = sorted(counter.items(), key=lambda x: x[1], reverse=True) #对得到的语料map进行排序\n",
    "        self.idx_to_token = ['<unk>'] + reserved_tokens\n",
    "        self.token_to_idx = {token:idx for idx, token in enumerate(self.idx_to_token)} # 某个单词对于id word:idx\n",
    "        for token, freq in self._token_freqs:\n",
    "            if freq < min_freq: # 不统计小于某个频率的单词\n",
    "                break\n",
    "            if token not in self.token_to_idx:\n",
    "                self.idx_to_token.append(token)\n",
    "                self.token_to_idx[token] = len(self.idx_to_token) - 1\n",
    "            \n",
    "            \n",
    "    def __len__(self):\n",
    "        return len(self.idx_to_token)\n",
    "    \n",
    "    def __getitem__(self, tokens):\n",
    "        if not isinstance(tokens, (list, tuple)): # 非列表或者元组\n",
    "            return self.token_to_idx.get(tokens, (list, tuple))\n",
    "        return [self.__getitem__(token) for token in tokens]\n",
    "    \n",
    "    def to_tokens(self, indices):\n",
    "        if not isinstance(indices, (list, tuple)):\n",
    "            return self.idx_to_token[indices]\n",
    "        return [self.idx_to_token[index] for index in indices]\n",
    "    \n",
    "    \n",
    "    @property\n",
    "    def unk(self):\n",
    "        return 0\n",
    "    \n",
    "    @property\n",
    "    def token_freqs(self):\n",
    "        return self._token_freqs\n",
    "    \n",
    "\n",
    "            "
   ]
  },
  {
   "cell_type": "code",
   "execution_count": 50,
   "id": "517534f2-cd90-45f2-a649-c8bee7e63b85",
   "metadata": {
    "tags": []
   },
   "outputs": [],
   "source": [
    "def count_corpus(tokens):\n",
    "    if len(tokens) == 0 or isinstance(tokens[0], list):\n",
    "        tokens = [token for line in tokens for token in line] # 记录每个单词\n",
    "    return collections.Counter(tokens)# 单词统计"
   ]
  },
  {
   "cell_type": "code",
   "execution_count": 51,
   "id": "631e80ac-90cb-40c2-9f2a-24b98aa773fd",
   "metadata": {
    "tags": []
   },
   "outputs": [],
   "source": [
    "vocab = Vocab(tokens=token)"
   ]
  },
  {
   "cell_type": "code",
   "execution_count": 52,
   "id": "715ee2ff-9f78-4649-baa1-1c45df5eb533",
   "metadata": {
    "tags": []
   },
   "outputs": [
    {
     "name": "stdout",
     "output_type": "stream",
     "text": [
      "[('<unk>', 0), ('the', 1), ('i', 2), ('and', 3), ('of', 4), ('a', 5), ('to', 6), ('was', 7), ('in', 8), ('that', 9)]\n"
     ]
    }
   ],
   "source": [
    "print(list(vocab.token_to_idx.items())[:10])"
   ]
  },
  {
   "cell_type": "code",
   "execution_count": 53,
   "id": "091c8709-7c16-4ad4-abaf-c9ff347aad1c",
   "metadata": {
    "tags": []
   },
   "outputs": [
    {
     "data": {
      "text/plain": [
       "\u001b[0;31mSignature:\u001b[0m \u001b[0msorted\u001b[0m\u001b[0;34m(\u001b[0m\u001b[0miterable\u001b[0m\u001b[0;34m,\u001b[0m \u001b[0;34m/\u001b[0m\u001b[0;34m,\u001b[0m \u001b[0;34m*\u001b[0m\u001b[0;34m,\u001b[0m \u001b[0mkey\u001b[0m\u001b[0;34m=\u001b[0m\u001b[0;32mNone\u001b[0m\u001b[0;34m,\u001b[0m \u001b[0mreverse\u001b[0m\u001b[0;34m=\u001b[0m\u001b[0;32mFalse\u001b[0m\u001b[0;34m)\u001b[0m\u001b[0;34m\u001b[0m\u001b[0;34m\u001b[0m\u001b[0m\n",
       "\u001b[0;31mDocstring:\u001b[0m\n",
       "Return a new list containing all items from the iterable in ascending order.\n",
       "\n",
       "A custom key function can be supplied to customize the sort order, and the\n",
       "reverse flag can be set to request the result in descending order.\n",
       "\u001b[0;31mType:\u001b[0m      builtin_function_or_method"
      ]
     },
     "metadata": {},
     "output_type": "display_data"
    }
   ],
   "source": [
    "sorted?"
   ]
  },
  {
   "cell_type": "code",
   "execution_count": 55,
   "id": "de684068-6d3d-4258-965e-9281bee6ec02",
   "metadata": {
    "tags": []
   },
   "outputs": [
    {
     "name": "stdout",
     "output_type": "stream",
     "text": [
      "20\n"
     ]
    }
   ],
   "source": [
    "m = {1:4, 2:2, 3:3}\n",
    "if 1 not in m:\n",
    "    print(10)\n",
    "else :\n",
    "    print(20)"
   ]
  },
  {
   "cell_type": "code",
   "execution_count": 57,
   "id": "e4287443-eaf6-4d7b-a863-568dcf004e89",
   "metadata": {
    "tags": []
   },
   "outputs": [
    {
     "name": "stdout",
     "output_type": "stream",
     "text": [
      "文本： ['the', 'time', 'machine', 'by', 'h', 'g', 'wells']\n",
      "索引: [1, 19, 50, 40, 2183, 2184, 400]\n",
      "文本： ['twinkled', 'and', 'his', 'usually', 'pale', 'face', 'was', 'flushed', 'and', 'animated', 'the']\n",
      "索引: [2186, 3, 25, 1044, 362, 113, 7, 1421, 3, 1045, 1]\n"
     ]
    }
   ],
   "source": [
    "for i in [0, 10]:\n",
    "    print('文本：', token[i])\n",
    "    print('索引:', vocab[token[i]])"
   ]
  },
  {
   "cell_type": "code",
   "execution_count": 58,
   "id": "d820dc1d-7b9a-4c14-9ad3-cf0a8d5d4c14",
   "metadata": {
    "tags": []
   },
   "outputs": [
    {
     "data": {
      "text/plain": [
       "\u001b[0;31mSignature:\u001b[0m \u001b[0misinstance\u001b[0m\u001b[0;34m(\u001b[0m\u001b[0mobj\u001b[0m\u001b[0;34m,\u001b[0m \u001b[0mclass_or_tuple\u001b[0m\u001b[0;34m,\u001b[0m \u001b[0;34m/\u001b[0m\u001b[0;34m)\u001b[0m\u001b[0;34m\u001b[0m\u001b[0;34m\u001b[0m\u001b[0m\n",
       "\u001b[0;31mDocstring:\u001b[0m\n",
       "Return whether an object is an instance of a class or of a subclass thereof.\n",
       "\n",
       "A tuple, as in ``isinstance(x, (A, B, ...))``, may be given as the target to\n",
       "check against. This is equivalent to ``isinstance(x, A) or isinstance(x, B)\n",
       "or ...`` etc.\n",
       "\u001b[0;31mType:\u001b[0m      builtin_function_or_method"
      ]
     },
     "metadata": {},
     "output_type": "display_data"
    }
   ],
   "source": [
    "isinstance?"
   ]
  },
  {
   "cell_type": "code",
   "execution_count": 61,
   "id": "c935a4e3-0745-4d4f-9700-ddc07f16c524",
   "metadata": {
    "tags": []
   },
   "outputs": [],
   "source": [
    "def load_corpus_time_machine(max_tokens = -1):\n",
    "    lines = read_time_machine()\n",
    "    tokens = tokensize(lines, 'char')\n",
    "    vocab = Vocab(tokens)\n",
    "    corpus = [vocab[token] for line in tokens for token in line]\n",
    "    if max_tokens > 0:\n",
    "        corpus = corpus[:max_tokens]\n",
    "    return corpus, vocab"
   ]
  },
  {
   "cell_type": "code",
   "execution_count": 62,
   "id": "60eb3854-794f-4d16-94eb-93c0245d25cb",
   "metadata": {
    "tags": []
   },
   "outputs": [],
   "source": [
    "corpus, vocab = load_corpus_time_machine()"
   ]
  },
  {
   "cell_type": "code",
   "execution_count": 63,
   "id": "32befa46-e51e-492a-ab6d-62617533bc2e",
   "metadata": {
    "tags": []
   },
   "outputs": [
    {
     "data": {
      "text/plain": [
       "(170580, 28)"
      ]
     },
     "execution_count": 63,
     "metadata": {},
     "output_type": "execute_result"
    }
   ],
   "source": [
    "len(corpus), len(vocab)"
   ]
  },
  {
   "cell_type": "code",
   "execution_count": 65,
   "id": "09a1d622-9b4e-45dc-ac1c-ab6f378792cf",
   "metadata": {
    "tags": []
   },
   "outputs": [
    {
     "data": {
      "text/plain": [
       "['2', '1', '3', '4']"
      ]
     },
     "execution_count": 65,
     "metadata": {},
     "output_type": "execute_result"
    }
   ],
   "source": [
    "l = ['2134', 'cas', 'fasdf']\n",
    "list(l[0])"
   ]
  },
  {
   "cell_type": "code",
   "execution_count": null,
   "id": "15a7db78-75b0-4f3d-8909-83a33edae663",
   "metadata": {},
   "outputs": [],
   "source": []
  }
 ],
 "metadata": {
  "kernelspec": {
   "display_name": "d2l",
   "language": "python",
   "name": "torch"
  },
  "language_info": {
   "codemirror_mode": {
    "name": "ipython",
    "version": 3
   },
   "file_extension": ".py",
   "mimetype": "text/x-python",
   "name": "python",
   "nbconvert_exporter": "python",
   "pygments_lexer": "ipython3",
   "version": "3.11.4"
  }
 },
 "nbformat": 4,
 "nbformat_minor": 5
}
