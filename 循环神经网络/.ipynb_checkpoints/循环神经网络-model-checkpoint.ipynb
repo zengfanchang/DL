{
 "cells": [
  {
   "cell_type": "code",
   "execution_count": 1,
   "id": "bc478f72-3062-46a0-af03-0142e5303257",
   "metadata": {
    "tags": []
   },
   "outputs": [],
   "source": [
    "import torch\n",
    "from d2l import torch as d2l"
   ]
  },
  {
   "cell_type": "code",
   "execution_count": 2,
   "id": "09fab703-ffe8-42f7-953a-19333e427a5c",
   "metadata": {
    "tags": []
   },
   "outputs": [
    {
     "data": {
      "text/plain": [
       "tensor([[-0.2063, -2.1521, -0.4828,  3.5992],\n",
       "        [-0.2784,  5.6078,  1.7859, -2.6562],\n",
       "        [ 0.1244,  1.8829, -2.0657,  7.0816]])"
      ]
     },
     "execution_count": 2,
     "metadata": {},
     "output_type": "execute_result"
    }
   ],
   "source": [
    "X, W_xh = torch.normal(0, 1, (3, 1)), torch.normal(0, 1, (1, 4)) # 3 * 4\n",
    "H, W_hh = torch.normal(0, 1, (3, 4)), torch.normal(0, 1, (4, 4))\n",
    "torch.matmul(X, W_xh) + torch.matmul(H, W_hh)"
   ]
  },
  {
   "cell_type": "code",
   "execution_count": 7,
   "id": "44be89f5-0384-47f7-b09c-658d62cb0af2",
   "metadata": {},
   "outputs": [
    {
     "data": {
      "text/plain": [
       "tensor([[-0.2523, -0.2523, -0.2523, -0.2523],\n",
       "        [ 0.4248,  0.4248,  0.4248,  0.4248],\n",
       "        [ 2.7612,  2.7612,  2.7612,  2.7612]])"
      ]
     },
     "execution_count": 7,
     "metadata": {},
     "output_type": "execute_result"
    }
   ],
   "source": [
    "tmp = torch.ones((1, 4))\n",
    "torch.matmul(X, tmp)"
   ]
  },
  {
   "cell_type": "code",
   "execution_count": 5,
   "id": "df386cbb-0ff2-442c-bcb1-e45f651891db",
   "metadata": {
    "tags": []
   },
   "outputs": [
    {
     "data": {
      "text/plain": [
       "tensor([[-1.3630,  1.2467, -2.1987, -0.6945],\n",
       "        [-1.3832,  2.4258,  0.9499, -1.7862],\n",
       "        [ 1.9049,  2.8829,  1.0527,  0.3457]])"
      ]
     },
     "execution_count": 5,
     "metadata": {},
     "output_type": "execute_result"
    }
   ],
   "source": [
    "torch.matmul(torch.cat((X, H), 1), torch.cat((W_xh, W_hh), 0)) # 拼接，"
   ]
  },
  {
   "cell_type": "code",
   "execution_count": 6,
   "id": "809a2fb6-5eb4-498c-a184-284696b98b72",
   "metadata": {
    "tags": []
   },
   "outputs": [
    {
     "data": {
      "text/plain": [
       "tensor([[-1.6060, -1.7461, -1.5597,  1.0724, -0.4283],\n",
       "        [-0.1285,  1.1895,  0.6861,  0.8491,  0.7461],\n",
       "        [ 0.2367,  0.4611,  2.1900, -0.0726,  0.6052]])"
      ]
     },
     "execution_count": 6,
     "metadata": {},
     "output_type": "execute_result"
    }
   ],
   "source": [
    "torch.cat((X, H), 1)"
   ]
  },
  {
   "cell_type": "code",
   "execution_count": 8,
   "id": "87519f35-9023-4a85-a4fb-bbd5ec32f0e2",
   "metadata": {
    "tags": []
   },
   "outputs": [],
   "source": [
    "%matplotlib inline\n",
    "import math\n",
    "import torch\n",
    "from torch import nn\n",
    "from torch.nn import functional as F\n",
    "from d2l import torch as d2l"
   ]
  },
  {
   "cell_type": "code",
   "execution_count": 9,
   "id": "0aca529c-ec93-4bb6-b443-10b7bfaf48c2",
   "metadata": {
    "tags": []
   },
   "outputs": [],
   "source": [
    "batch_size, num_steps = 32, 35\n",
    "train_iter, vocab = d2l.load_data_time_machine(batch_size, num_steps) # 一个分词列表和词表, 统计频率和词 等等"
   ]
  },
  {
   "cell_type": "code",
   "execution_count": 25,
   "id": "2f7a8583-70e0-4601-9392-2caa9ab923a3",
   "metadata": {},
   "outputs": [
    {
     "data": {
      "text/plain": [
       "\u001b[0;31mType:\u001b[0m           SeqDataLoader\n",
       "\u001b[0;31mString form:\u001b[0m    <d2l.torch.SeqDataLoader object at 0x7ff7326e2450>\n",
       "\u001b[0;31mFile:\u001b[0m           ~/anaconda3/envs/torch/lib/python3.11/site-packages/d2l/torch.py\n",
       "\u001b[0;31mDocstring:\u001b[0m      An iterator to load sequence data.\n",
       "\u001b[0;31mInit docstring:\u001b[0m Defined in :numref:`sec_language_model`"
      ]
     },
     "metadata": {},
     "output_type": "display_data"
    }
   ],
   "source": [
    "train_iter?"
   ]
  },
  {
   "cell_type": "code",
   "execution_count": 10,
   "id": "ac46b568-a874-4f9f-895d-c045c8f481a0",
   "metadata": {
    "tags": []
   },
   "outputs": [
    {
     "data": {
      "text/plain": [
       "tensor([[1, 0, 0, 0, 0],\n",
       "        [0, 1, 0, 0, 0],\n",
       "        [0, 0, 1, 0, 0]])"
      ]
     },
     "execution_count": 10,
     "metadata": {},
     "output_type": "execute_result"
    }
   ],
   "source": [
    "F.one_hot(torch.tensor([0, 1, 2]), 5)"
   ]
  },
  {
   "cell_type": "code",
   "execution_count": 11,
   "id": "e9d8d7ad-c0a2-4651-98b5-e35757f094ad",
   "metadata": {},
   "outputs": [
    {
     "data": {
      "text/plain": [
       "<d2l.torch.Vocab at 0x7ff7324d3010>"
      ]
     },
     "execution_count": 11,
     "metadata": {},
     "output_type": "execute_result"
    }
   ],
   "source": [
    "vocab"
   ]
  },
  {
   "cell_type": "code",
   "execution_count": 12,
   "id": "c3cfee5c-bbe6-4d55-9c15-87656d9dde81",
   "metadata": {
    "tags": []
   },
   "outputs": [
    {
     "data": {
      "text/plain": [
       "tensor([[[1, 0, 0, 0, 0, 0, 0, 0, 0, 0, 0, 0, 0, 0, 0, 0, 0, 0, 0, 0, 0, 0, 0,\n",
       "          0, 0, 0, 0, 0],\n",
       "         [0, 0, 0, 0, 0, 1, 0, 0, 0, 0, 0, 0, 0, 0, 0, 0, 0, 0, 0, 0, 0, 0, 0,\n",
       "          0, 0, 0, 0, 0]],\n",
       "\n",
       "        [[0, 1, 0, 0, 0, 0, 0, 0, 0, 0, 0, 0, 0, 0, 0, 0, 0, 0, 0, 0, 0, 0, 0,\n",
       "          0, 0, 0, 0, 0],\n",
       "         [0, 0, 0, 0, 0, 0, 1, 0, 0, 0, 0, 0, 0, 0, 0, 0, 0, 0, 0, 0, 0, 0, 0,\n",
       "          0, 0, 0, 0, 0]],\n",
       "\n",
       "        [[0, 0, 1, 0, 0, 0, 0, 0, 0, 0, 0, 0, 0, 0, 0, 0, 0, 0, 0, 0, 0, 0, 0,\n",
       "          0, 0, 0, 0, 0],\n",
       "         [0, 0, 0, 0, 0, 0, 0, 1, 0, 0, 0, 0, 0, 0, 0, 0, 0, 0, 0, 0, 0, 0, 0,\n",
       "          0, 0, 0, 0, 0]],\n",
       "\n",
       "        [[0, 0, 0, 1, 0, 0, 0, 0, 0, 0, 0, 0, 0, 0, 0, 0, 0, 0, 0, 0, 0, 0, 0,\n",
       "          0, 0, 0, 0, 0],\n",
       "         [0, 0, 0, 0, 0, 0, 0, 0, 1, 0, 0, 0, 0, 0, 0, 0, 0, 0, 0, 0, 0, 0, 0,\n",
       "          0, 0, 0, 0, 0]],\n",
       "\n",
       "        [[0, 0, 0, 0, 1, 0, 0, 0, 0, 0, 0, 0, 0, 0, 0, 0, 0, 0, 0, 0, 0, 0, 0,\n",
       "          0, 0, 0, 0, 0],\n",
       "         [0, 0, 0, 0, 0, 0, 0, 0, 0, 1, 0, 0, 0, 0, 0, 0, 0, 0, 0, 0, 0, 0, 0,\n",
       "          0, 0, 0, 0, 0]]])"
      ]
     },
     "execution_count": 12,
     "metadata": {},
     "output_type": "execute_result"
    }
   ],
   "source": [
    "X = torch.arange(10).reshape((2, 5))\n",
    "F.one_hot(X.T, 28)"
   ]
  },
  {
   "cell_type": "markdown",
   "id": "0082ca48-ae2c-4e44-9d26-669ae441c174",
   "metadata": {},
   "source": [
    "- 初始化模型参数"
   ]
  },
  {
   "cell_type": "code",
   "execution_count": 12,
   "id": "ccd6a120-2ba0-46ee-a397-3b09cd109305",
   "metadata": {
    "tags": []
   },
   "outputs": [],
   "source": [
    "def get_params(vocab_size, num_hiddens, device): # 单层 隐藏层参数和隐变量参数 隐变量和输入，在一开始就需要运算隐变量\n",
    "    \n",
    "    num_inputs = num_outputs = vocab_size\n",
    "    \n",
    "    def normal(shape): # 生成正太分布\n",
    "        return torch.randn(size=shape, device=device) * 0.01\n",
    "    # 前三个\n",
    "    W_xh = normal((num_inputs, num_hiddens))\n",
    "    W_hh = normal((num_hiddens, num_hiddens))\n",
    "    b_h= torch.zeros(num_hiddens, device=device)\n",
    "    # 得到值后再同意计算\n",
    "    W_hq = normal((num_hiddens, num_outputs))\n",
    "    b_q = torch.zeros(num_outputs, device=device)\n",
    "    \n",
    "    params = [W_xh, W_hh, b_h, W_hq, b_q]\n",
    "    for param in params:\n",
    "        param.requires_grad_(True)\n",
    "    return params"
   ]
  },
  {
   "cell_type": "code",
   "execution_count": 13,
   "id": "1bea1139-f405-4724-8d1c-09c27cb490f6",
   "metadata": {
    "tags": []
   },
   "outputs": [],
   "source": [
    "def init_rnn_state(batch_size, num_hiddens, device):\n",
    "    return (torch.zeros((batch_size, num_hiddens), device=device), ) # 返回元组"
   ]
  },
  {
   "cell_type": "code",
   "execution_count": 14,
   "id": "ad06c1d2-d066-4920-b85b-39b300152204",
   "metadata": {
    "tags": []
   },
   "outputs": [],
   "source": [
    "# 构建特殊的隐藏层 可是我该怎么\n",
    "def rnn(inputs, state, params):\n",
    "    # inputs的形状：(时间步数量，批量⼤⼩，词表⼤⼩)\n",
    "    W_xh, W_hh, b_h, W_hq, b_q = params # 随机身材\n",
    "    H, = state\n",
    "    outputs = []\n",
    "    # X的形状：(批量⼤⼩，词表⼤⼩)\n",
    "    for X in inputs: # 激活函数\n",
    "        H = torch.tanh(torch.mm(X, W_xh) + torch.mm(H, W_hh) + b_h) # 初始为全零状态，然后再跟着输入改变\n",
    "        Y = torch.mm(H, W_hq) + b_q\n",
    "        outputs.append(Y)\n",
    "    return torch.cat(outputs, dim=0), (H,)"
   ]
  },
  {
   "cell_type": "code",
   "execution_count": 15,
   "id": "2b39df67-ba01-440b-ab3b-3e1faf9a742a",
   "metadata": {
    "tags": []
   },
   "outputs": [],
   "source": [
    "class RNNModelScratch: #@save\n",
    "    \"\"\"从零开始实现的循环神经⽹络模型\"\"\"\n",
    "    def __init__(self, vocab_size, num_hiddens, device,\n",
    "        get_params, init_state, forward_fn):\n",
    "        self.vocab_size, self.num_hiddens = vocab_size, num_hiddens\n",
    "        self.params = get_params(vocab_size, num_hiddens, device)\n",
    "        self.init_state, self.forward_fn = init_state, forward_fn\n",
    "        \n",
    "        \n",
    "    def __call__(self, X, state):\n",
    "        X = F.one_hot(X.T, self.vocab_size).type(torch.float32)\n",
    "        return self.forward_fn(X, state, self.params) # RNN\n",
    "    \n",
    "    \n",
    "    def begin_state(self, batch_size, device):\n",
    "        return self.init_state(batch_size, self.num_hiddens, device)"
   ]
  },
  {
   "cell_type": "code",
   "execution_count": 38,
   "id": "0bdc8172-0ad9-4010-8664-e9218b293548",
   "metadata": {},
   "outputs": [
    {
     "data": {
      "text/plain": [
       "28"
      ]
     },
     "execution_count": 38,
     "metadata": {},
     "output_type": "execute_result"
    }
   ],
   "source": [
    "len(vocab)"
   ]
  },
  {
   "cell_type": "code",
   "execution_count": 18,
   "id": "a71a3529-afc8-42e8-8991-805609b3010d",
   "metadata": {
    "tags": []
   },
   "outputs": [
    {
     "ename": "RuntimeError",
     "evalue": "one_hot is only applicable to index tensor.",
     "output_type": "error",
     "traceback": [
      "\u001b[0;31m---------------------------------------------------------------------------\u001b[0m",
      "\u001b[0;31mRuntimeError\u001b[0m                              Traceback (most recent call last)",
      "Cell \u001b[0;32mIn[18], line 5\u001b[0m\n\u001b[1;32m      2\u001b[0m net \u001b[38;5;241m=\u001b[39m RNNModelScratch(\u001b[38;5;28mlen\u001b[39m(vocab), num_hiddens, d2l\u001b[38;5;241m.\u001b[39mtry_gpu(), get_params,\n\u001b[1;32m      3\u001b[0m     init_rnn_state, rnn)\n\u001b[1;32m      4\u001b[0m state \u001b[38;5;241m=\u001b[39m net\u001b[38;5;241m.\u001b[39mbegin_state(X\u001b[38;5;241m.\u001b[39mshape[\u001b[38;5;241m0\u001b[39m], d2l\u001b[38;5;241m.\u001b[39mtry_gpu())\n\u001b[0;32m----> 5\u001b[0m Y, new_state \u001b[38;5;241m=\u001b[39m net(X\u001b[38;5;241m.\u001b[39mto(d2l\u001b[38;5;241m.\u001b[39mtry_gpu()), state)\n\u001b[1;32m      6\u001b[0m Y\u001b[38;5;241m.\u001b[39mshape, \u001b[38;5;28mlen\u001b[39m(new_state), new_state[\u001b[38;5;241m0\u001b[39m]\u001b[38;5;241m.\u001b[39mshape\n",
      "Cell \u001b[0;32mIn[15], line 11\u001b[0m, in \u001b[0;36mRNNModelScratch.__call__\u001b[0;34m(self, X, state)\u001b[0m\n\u001b[1;32m     10\u001b[0m \u001b[38;5;28;01mdef\u001b[39;00m \u001b[38;5;21m__call__\u001b[39m(\u001b[38;5;28mself\u001b[39m, X, state):\n\u001b[0;32m---> 11\u001b[0m     X \u001b[38;5;241m=\u001b[39m F\u001b[38;5;241m.\u001b[39mone_hot(X\u001b[38;5;241m.\u001b[39mT, \u001b[38;5;28mself\u001b[39m\u001b[38;5;241m.\u001b[39mvocab_size)\u001b[38;5;241m.\u001b[39mtype(torch\u001b[38;5;241m.\u001b[39mfloat32)\n\u001b[1;32m     12\u001b[0m     \u001b[38;5;28;01mreturn\u001b[39;00m \u001b[38;5;28mself\u001b[39m\u001b[38;5;241m.\u001b[39mforward_fn(X, state, \u001b[38;5;28mself\u001b[39m\u001b[38;5;241m.\u001b[39mparams)\n",
      "\u001b[0;31mRuntimeError\u001b[0m: one_hot is only applicable to index tensor."
     ]
    }
   ],
   "source": [
    "num_hiddens = 512\n",
    "net = RNNModelScratch(len(vocab), num_hiddens, d2l.try_gpu(), get_params,\n",
    "    init_rnn_state, rnn)\n",
    "state = net.begin_state(X.shape[0], d2l.try_gpu())\n",
    "Y, new_state = net(X.to(d2l.try_gpu()), state)\n",
    "Y.shape, len(new_state), new_state[0].shape"
   ]
  },
  {
   "cell_type": "code",
   "execution_count": null,
   "id": "6e5fd498-4bc8-4a02-b7a1-f99920b0b647",
   "metadata": {},
   "outputs": [],
   "source": []
  }
 ],
 "metadata": {
  "kernelspec": {
   "display_name": "d2l",
   "language": "python",
   "name": "torch"
  },
  "language_info": {
   "codemirror_mode": {
    "name": "ipython",
    "version": 3
   },
   "file_extension": ".py",
   "mimetype": "text/x-python",
   "name": "python",
   "nbconvert_exporter": "python",
   "pygments_lexer": "ipython3",
   "version": "3.11.4"
  }
 },
 "nbformat": 4,
 "nbformat_minor": 5
}
